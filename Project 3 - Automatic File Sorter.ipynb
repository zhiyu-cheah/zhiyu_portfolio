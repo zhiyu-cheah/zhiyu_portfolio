{
 "cells": [
  {
   "cell_type": "code",
   "execution_count": 209,
   "id": "44d04da3-31ee-4ddb-b449-c76bccccdb61",
   "metadata": {},
   "outputs": [],
   "source": [
    "import os, shutil"
   ]
  },
  {
   "cell_type": "code",
   "execution_count": 219,
   "id": "cf739f1d-1de2-46f8-aa05-c06245118c3b",
   "metadata": {},
   "outputs": [],
   "source": [
    "path = r'C:\\Users\\matebook\\OneDrive\\Documents\\Automatic File Sorter\\\\'"
   ]
  },
  {
   "cell_type": "code",
   "execution_count": 213,
   "id": "038095b9-317e-4769-a66d-5a006fdf58f2",
   "metadata": {},
   "outputs": [
    {
     "data": {
      "text/plain": [
       "['CSVFile (1).csv',\n",
       " 'FakeFile (1).csv',\n",
       " 'FakeFile (1).txt',\n",
       " 'Max (1).png',\n",
       " 'NewFile (1).tsv',\n",
       " 'NewFile (1).txt',\n",
       " 'Rosie (1).png']"
      ]
     },
     "execution_count": 213,
     "metadata": {},
     "output_type": "execute_result"
    }
   ],
   "source": [
    "os.listdir(path)"
   ]
  },
  {
   "cell_type": "code",
   "execution_count": 215,
   "id": "082fa4c2-4120-4e57-ba79-f609b4a99cee",
   "metadata": {},
   "outputs": [],
   "source": [
    "#os.makedirs(path + new_folder_name)"
   ]
  },
  {
   "cell_type": "code",
   "execution_count": 221,
   "id": "6a02e099-1a8e-45ae-bc87-9518b8bbd7e8",
   "metadata": {},
   "outputs": [],
   "source": [
    "folder_names = ['CSV files', 'Text files', 'Image files']\n",
    "\n",
    "for folder in folder_names:\n",
    "    if not os.path.exists(path + folder):\n",
    "        os.makedirs(path + folder)"
   ]
  },
  {
   "cell_type": "code",
   "execution_count": 223,
   "id": "f78867c6-5471-4efa-ac06-b45141e8a30f",
   "metadata": {},
   "outputs": [
    {
     "data": {
      "text/plain": [
       "['CSV files',\n",
       " 'CSVFile (1).csv',\n",
       " 'FakeFile (1).csv',\n",
       " 'FakeFile (1).txt',\n",
       " 'Image files',\n",
       " 'Max (1).png',\n",
       " 'NewFile (1).tsv',\n",
       " 'NewFile (1).txt',\n",
       " 'Rosie (1).png',\n",
       " 'Text files']"
      ]
     },
     "execution_count": 223,
     "metadata": {},
     "output_type": "execute_result"
    }
   ],
   "source": [
    "os.listdir(path)"
   ]
  },
  {
   "cell_type": "code",
   "execution_count": 225,
   "id": "292d3926-6825-495b-a2a9-1cf043c78cc8",
   "metadata": {},
   "outputs": [],
   "source": [
    "file_names = os.listdir(path)"
   ]
  },
  {
   "cell_type": "code",
   "execution_count": 227,
   "id": "df7ea01b-2790-44c6-a513-958dbc777a77",
   "metadata": {},
   "outputs": [],
   "source": [
    "for file in file_names:\n",
    "    if\".csv\" in file and not os.path.exists(path + \"CSV files\\\\\" + file):\n",
    "        shutil.move(path + file, path + \"CSV files\\\\\" + file)\n",
    "    elif\".png\" in file and not os.path.exists(path + \"Image files\\\\\" + file):\n",
    "        shutil.move(path + file, path + \"Image files\\\\\" + file)\n",
    "    elif\".txt\" in file and not os.path.exists(path + \"Text files\\\\\" + file):\n",
    "        shutil.move(path + file, path + \"Text files\\\\\" + file)"
   ]
  },
  {
   "cell_type": "code",
   "execution_count": null,
   "id": "fe006156-4f56-4153-bb22-347d8e875a73",
   "metadata": {},
   "outputs": [],
   "source": []
  },
  {
   "cell_type": "code",
   "execution_count": 230,
   "id": "06d9b9c4-ba5d-46ad-85f8-f65a1b38e68e",
   "metadata": {},
   "outputs": [],
   "source": [
    "path = r'C:\\Users\\matebook\\OneDrive\\Documents\\Automatic File Sorter\\\\'\n",
    "\n",
    "folder_names = ['CSV files', 'Text files', 'Image files']\n",
    "\n",
    "for folder in folder_names:\n",
    "    if not os.path.exists(path + folder):\n",
    "        os.makedirs(path + folder)\n",
    "\n",
    "file_names = os.listdir(path)\n",
    "\n",
    "for file in file_names:\n",
    "    if\".csv\" in file and not os.path.exists(path + \"CSV files\\\\\" + file):\n",
    "        shutil.move(path + file, path + \"CSV files\\\\\" + file)\n",
    "    elif\".png\" in file and not os.path.exists(path + \"Image files\\\\\" + file):\n",
    "        shutil.move(path + file, path + \"Image files\\\\\" + file)\n",
    "    elif\".txt\" in file and not os.path.exists(path + \"Text files\\\\\" + file):\n",
    "        shutil.move(path + file, path + \"Text files\\\\\" + file)"
   ]
  }
 ],
 "metadata": {
  "kernelspec": {
   "display_name": "Python 3 (ipykernel)",
   "language": "python",
   "name": "python3"
  },
  "language_info": {
   "codemirror_mode": {
    "name": "ipython",
    "version": 3
   },
   "file_extension": ".py",
   "mimetype": "text/x-python",
   "name": "python",
   "nbconvert_exporter": "python",
   "pygments_lexer": "ipython3",
   "version": "3.12.4"
  }
 },
 "nbformat": 4,
 "nbformat_minor": 5
}
