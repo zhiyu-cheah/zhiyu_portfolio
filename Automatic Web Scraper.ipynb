{
 "cells": [
  {
   "cell_type": "code",
   "execution_count": 1,
   "id": "b85e59c7-a413-435f-a91a-0b6f749df5e4",
   "metadata": {},
   "outputs": [],
   "source": [
    "from bs4 import BeautifulSoup\n",
    "import requests\n",
    "\n",
    "import pandas as pd\n",
    "\n",
    "from datetime import datetime\n",
    "\n",
    "import os\n",
    "\n",
    "import time\n"
   ]
  },
  {
   "cell_type": "code",
   "execution_count": 3,
   "id": "21a1aba5-f0e2-4654-a650-b97a2ae3fffa",
   "metadata": {},
   "outputs": [],
   "source": [
    "def automated_crypto_pull():\n",
    "    url = 'https://coinmarketcap.com/currencies/bitcoin/'\n",
    "    \n",
    "    page = requests.get(url)\n",
    "    \n",
    "    soup = BeautifulSoup(page.text, 'html')\n",
    "    \n",
    "    crypto_name = soup.find('span', class_ = 'sc-65e7f566-0 lsTl').text\n",
    "    final_crypto_name = crypto_name.replace('price', '')\n",
    "    \n",
    "    crypto_price = soup.find('span', class_ = 'sc-65e7f566-0 WXGwg base-text').text\n",
    "    final_crypto_price = crypto_price.replace('$', '')\n",
    "    \n",
    "    date_time = datetime.now() \n",
    "    dict = {'Crypto Name': final_crypto_name,\n",
    "            'Price': final_crypto_price,\n",
    "            'TimeStamp': date_time}\n",
    "    \n",
    "    df = pd.DataFrame(dict, index = [0])\n",
    "    \n",
    "    if os.path.exists(r'D:\\Analyst Builder\\Python\\Crypto Web Puller\\Crypto_Automated_Pull.csv'):\n",
    "        df.to_csv(r'D:\\Analyst Builder\\Python\\Crypto Web Puller\\Crypto_Automated_Pull.csv', mode = 'a', header = False, index = False)\n",
    "    else:\n",
    "        df.to_csv(r'D:\\Analyst Builder\\Python\\Crypto Web Puller\\Crypto_Automated_Pull.csv', index = False)\n",
    "    print(df)"
   ]
  },
  {
   "cell_type": "code",
   "execution_count": null,
   "id": "caca1adb-0606-4d4d-ac3a-8d99e5d62cd3",
   "metadata": {},
   "outputs": [
    {
     "name": "stdout",
     "output_type": "stream",
     "text": [
      "  Crypto Name      Price                  TimeStamp\n",
      "0    Bitcoin   91,326.01 2024-11-14 16:16:57.919821\n"
     ]
    }
   ],
   "source": [
    "while True:\n",
    "    automated_crypto_pull()\n",
    "    time.sleep(3600)"
   ]
  },
  {
   "cell_type": "code",
   "execution_count": null,
   "id": "8996570a-e12e-4248-b1c5-87a5db06b0c3",
   "metadata": {},
   "outputs": [],
   "source": []
  }
 ],
 "metadata": {
  "kernelspec": {
   "display_name": "Python 3 (ipykernel)",
   "language": "python",
   "name": "python3"
  },
  "language_info": {
   "codemirror_mode": {
    "name": "ipython",
    "version": 3
   },
   "file_extension": ".py",
   "mimetype": "text/x-python",
   "name": "python",
   "nbconvert_exporter": "python",
   "pygments_lexer": "ipython3",
   "version": "3.12.4"
  }
 },
 "nbformat": 4,
 "nbformat_minor": 5
}
